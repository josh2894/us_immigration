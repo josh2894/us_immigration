{
 "cells": [
  {
   "cell_type": "code",
   "execution_count": 2,
   "metadata": {},
   "outputs": [],
   "source": [
    "import matplotlib.pyplot as plt\n",
    "import pandas as pd \n",
    "import seaborn as sns \n",
    "import numpy as np \n",
    "import scipy.stats \n",
    "import plotly.express as px\n",
    "import sys\n",
    "import os\n",
    "import dotenv"
   ]
  },
  {
   "cell_type": "code",
   "execution_count": 3,
   "metadata": {},
   "outputs": [],
   "source": [
    "current_dir = os.getcwd()\n",
    "project_dir = os.path.abspath(os.path.join(current_dir, os.pardir))\n",
    "src_path = os.path.join(project_dir, 'src')\n",
    "sys.path.append(src_path)\n",
    "\n",
    "from utils import load_env_vars\n",
    "load_env_vars()"
   ]
  },
  {
   "cell_type": "markdown",
   "metadata": {},
   "source": [
    "# Importing the Dataset"
   ]
  },
  {
   "cell_type": "code",
   "execution_count": 33,
   "metadata": {},
   "outputs": [],
   "source": [
    "us_immigration_csv = os.getenv('us_immigration_csv')\n",
    "df = pd.read_csv(us_immigration_csv)"
   ]
  },
  {
   "cell_type": "markdown",
   "metadata": {},
   "source": [
    "# Initial Observations & Cleaning"
   ]
  },
  {
   "cell_type": "code",
   "execution_count": 34,
   "metadata": {},
   "outputs": [
    {
     "data": {
      "text/html": [
       "<div>\n",
       "<style scoped>\n",
       "    .dataframe tbody tr th:only-of-type {\n",
       "        vertical-align: middle;\n",
       "    }\n",
       "\n",
       "    .dataframe tbody tr th {\n",
       "        vertical-align: top;\n",
       "    }\n",
       "\n",
       "    .dataframe thead th {\n",
       "        text-align: right;\n",
       "    }\n",
       "</style>\n",
       "<table border=\"1\" class=\"dataframe\">\n",
       "  <thead>\n",
       "    <tr style=\"text-align: right;\">\n",
       "      <th></th>\n",
       "      <th>Year</th>\n",
       "      <th>Immigrants Obtaining Lawful Permanent Resident Status</th>\n",
       "      <th>Refugee Arrivals</th>\n",
       "      <th>Noncitizen Apprehensions</th>\n",
       "      <th>Noncitizen Removals</th>\n",
       "      <th>Noncitizen Returns</th>\n",
       "    </tr>\n",
       "  </thead>\n",
       "  <tbody>\n",
       "    <tr>\n",
       "      <th>0</th>\n",
       "      <td>1980</td>\n",
       "      <td>524,295</td>\n",
       "      <td>207,116</td>\n",
       "      <td>910,361</td>\n",
       "      <td>18,013</td>\n",
       "      <td>719,211</td>\n",
       "    </tr>\n",
       "    <tr>\n",
       "      <th>1</th>\n",
       "      <td>1981</td>\n",
       "      <td>595,014</td>\n",
       "      <td>159,252</td>\n",
       "      <td>975,780</td>\n",
       "      <td>17,379</td>\n",
       "      <td>823,875</td>\n",
       "    </tr>\n",
       "    <tr>\n",
       "      <th>2</th>\n",
       "      <td>1982</td>\n",
       "      <td>533,624</td>\n",
       "      <td>98,096</td>\n",
       "      <td>970,246</td>\n",
       "      <td>15,216</td>\n",
       "      <td>812,572</td>\n",
       "    </tr>\n",
       "    <tr>\n",
       "      <th>3</th>\n",
       "      <td>1983</td>\n",
       "      <td>550,052</td>\n",
       "      <td>61,218</td>\n",
       "      <td>1,251,357</td>\n",
       "      <td>19,211</td>\n",
       "      <td>931,600</td>\n",
       "    </tr>\n",
       "    <tr>\n",
       "      <th>4</th>\n",
       "      <td>1984</td>\n",
       "      <td>541,811</td>\n",
       "      <td>70,393</td>\n",
       "      <td>1,246,981</td>\n",
       "      <td>18,696</td>\n",
       "      <td>909,833</td>\n",
       "    </tr>\n",
       "  </tbody>\n",
       "</table>\n",
       "</div>"
      ],
      "text/plain": [
       "   Year Immigrants Obtaining Lawful Permanent Resident Status  \\\n",
       "0  1980                                           524,295       \n",
       "1  1981                                           595,014       \n",
       "2  1982                                           533,624       \n",
       "3  1983                                           550,052       \n",
       "4  1984                                           541,811       \n",
       "\n",
       "  Refugee Arrivals Noncitizen Apprehensions Noncitizen Removals  \\\n",
       "0         207,116                   910,361              18,013   \n",
       "1         159,252                   975,780              17,379   \n",
       "2          98,096                   970,246              15,216   \n",
       "3          61,218                 1,251,357              19,211   \n",
       "4          70,393                 1,246,981              18,696   \n",
       "\n",
       "  Noncitizen Returns  \n",
       "0            719,211  \n",
       "1            823,875  \n",
       "2            812,572  \n",
       "3            931,600  \n",
       "4            909,833  "
      ]
     },
     "execution_count": 34,
     "metadata": {},
     "output_type": "execute_result"
    }
   ],
   "source": [
    "# First look\n",
    "df.head()"
   ]
  },
  {
   "cell_type": "code",
   "execution_count": 35,
   "metadata": {},
   "outputs": [],
   "source": [
    "# The columns needed to be renamed to a better format\n",
    "df.rename(columns={\"Immigrants Obtaining Lawful Permanent Resident Status\": \"lawful_permanent_resident_obt\",\n",
    "                   \"Refugee Arrivals\": \"refugee_arrivals\",\n",
    "                   \"Noncitizen Apprehensions\": \"noncitizen_apprehensions\",\n",
    "                   \"Noncitizen Removals\": \"noncitizen_removals\",\n",
    "                   \"Noncitizen Returns\": \"noncitizen_returns\"}, inplace=True)"
   ]
  },
  {
   "cell_type": "markdown",
   "metadata": {},
   "source": [
    "Let's check to see what the datatypes of the columns are"
   ]
  },
  {
   "cell_type": "code",
   "execution_count": 36,
   "metadata": {},
   "outputs": [
    {
     "data": {
      "text/plain": [
       "Year                              int64\n",
       "lawful_permanent_resident_obt    object\n",
       "refugee_arrivals                 object\n",
       "noncitizen_apprehensions         object\n",
       "noncitizen_removals              object\n",
       "noncitizen_returns               object\n",
       "dtype: object"
      ]
     },
     "execution_count": 36,
     "metadata": {},
     "output_type": "execute_result"
    }
   ],
   "source": [
    "df.dtypes"
   ]
  },
  {
   "cell_type": "markdown",
   "metadata": {},
   "source": [
    "Most of the columns needed to be converted to integers"
   ]
  },
  {
   "cell_type": "code",
   "execution_count": 37,
   "metadata": {},
   "outputs": [
    {
     "data": {
      "text/html": [
       "<div>\n",
       "<style scoped>\n",
       "    .dataframe tbody tr th:only-of-type {\n",
       "        vertical-align: middle;\n",
       "    }\n",
       "\n",
       "    .dataframe tbody tr th {\n",
       "        vertical-align: top;\n",
       "    }\n",
       "\n",
       "    .dataframe thead th {\n",
       "        text-align: right;\n",
       "    }\n",
       "</style>\n",
       "<table border=\"1\" class=\"dataframe\">\n",
       "  <thead>\n",
       "    <tr style=\"text-align: right;\">\n",
       "      <th></th>\n",
       "      <th>Year</th>\n",
       "      <th>lawful_permanent_resident_obt</th>\n",
       "      <th>refugee_arrivals</th>\n",
       "      <th>noncitizen_apprehensions</th>\n",
       "      <th>noncitizen_removals</th>\n",
       "      <th>noncitizen_returns</th>\n",
       "    </tr>\n",
       "  </thead>\n",
       "  <tbody>\n",
       "    <tr>\n",
       "      <th>0</th>\n",
       "      <td>1980</td>\n",
       "      <td>524295</td>\n",
       "      <td>207116</td>\n",
       "      <td>910361</td>\n",
       "      <td>18013</td>\n",
       "      <td>719211</td>\n",
       "    </tr>\n",
       "    <tr>\n",
       "      <th>1</th>\n",
       "      <td>1981</td>\n",
       "      <td>595014</td>\n",
       "      <td>159252</td>\n",
       "      <td>975780</td>\n",
       "      <td>17379</td>\n",
       "      <td>823875</td>\n",
       "    </tr>\n",
       "    <tr>\n",
       "      <th>2</th>\n",
       "      <td>1982</td>\n",
       "      <td>533624</td>\n",
       "      <td>98096</td>\n",
       "      <td>970246</td>\n",
       "      <td>15216</td>\n",
       "      <td>812572</td>\n",
       "    </tr>\n",
       "    <tr>\n",
       "      <th>3</th>\n",
       "      <td>1983</td>\n",
       "      <td>550052</td>\n",
       "      <td>61218</td>\n",
       "      <td>1251357</td>\n",
       "      <td>19211</td>\n",
       "      <td>931600</td>\n",
       "    </tr>\n",
       "    <tr>\n",
       "      <th>4</th>\n",
       "      <td>1984</td>\n",
       "      <td>541811</td>\n",
       "      <td>70393</td>\n",
       "      <td>1246981</td>\n",
       "      <td>18696</td>\n",
       "      <td>909833</td>\n",
       "    </tr>\n",
       "  </tbody>\n",
       "</table>\n",
       "</div>"
      ],
      "text/plain": [
       "   Year  lawful_permanent_resident_obt  refugee_arrivals  \\\n",
       "0  1980                         524295            207116   \n",
       "1  1981                         595014            159252   \n",
       "2  1982                         533624             98096   \n",
       "3  1983                         550052             61218   \n",
       "4  1984                         541811             70393   \n",
       "\n",
       "   noncitizen_apprehensions  noncitizen_removals  noncitizen_returns  \n",
       "0                    910361                18013              719211  \n",
       "1                    975780                17379              823875  \n",
       "2                    970246                15216              812572  \n",
       "3                   1251357                19211              931600  \n",
       "4                   1246981                18696              909833  "
      ]
     },
     "execution_count": 37,
     "metadata": {},
     "output_type": "execute_result"
    }
   ],
   "source": [
    "df.replace(\",\", \"\",regex=True, inplace=True)\n",
    "df[\"lawful_permanent_resident_obt\"] = df[\"lawful_permanent_resident_obt\"].astype(\"int\")\n",
    "df[\"refugee_arrivals\"] = df[\"refugee_arrivals\"].astype(\"int\")\n",
    "df[\"noncitizen_apprehensions\"] = df[\"noncitizen_apprehensions\"].astype(\"int\")\n",
    "df[\"noncitizen_removals\"] = df[\"noncitizen_removals\"].astype(\"int\")\n",
    "df[\"noncitizen_returns\"] = df[\"noncitizen_returns\"].astype(\"int\")\n",
    "df.head()"
   ]
  },
  {
   "cell_type": "code",
   "execution_count": 38,
   "metadata": {},
   "outputs": [],
   "source": [
    "cols_add_commas = df.iloc[:, 1:].columns.tolist()\n",
    "df[cols_add_commas] = df[cols_add_commas].map('{:,}'.format)"
   ]
  },
  {
   "cell_type": "code",
   "execution_count": null,
   "metadata": {},
   "outputs": [],
   "source": []
  }
 ],
 "metadata": {
  "kernelspec": {
   "display_name": "Python 3",
   "language": "python",
   "name": "python3"
  },
  "language_info": {
   "codemirror_mode": {
    "name": "ipython",
    "version": 3
   },
   "file_extension": ".py",
   "mimetype": "text/x-python",
   "name": "python",
   "nbconvert_exporter": "python",
   "pygments_lexer": "ipython3",
   "version": "3.11.10"
  }
 },
 "nbformat": 4,
 "nbformat_minor": 2
}
